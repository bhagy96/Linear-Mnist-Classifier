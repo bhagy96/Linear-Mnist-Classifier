{
 "cells": [
  {
   "cell_type": "markdown",
   "metadata": {},
   "source": [
    "#  Homework 1"
   ]
  },
  {
   "cell_type": "markdown",
   "metadata": {},
   "source": []
  },
  {
   "cell_type": "code",
   "execution_count": null,
   "metadata": {},
   "outputs": [],
   "source": []
  },
  {
   "cell_type": "code",
   "execution_count": 1,
   "metadata": {},
   "outputs": [],
   "source": [
    "import numpy as np\n",
    "import urllib.request\n",
    "import gzip\n",
    "import shutil\n",
    "import matplotlib.pyplot as plt\n",
    "import time\n",
    "import warnings\n",
    "warnings.filterwarnings('ignore')"
   ]
  },
  {
   "cell_type": "markdown",
   "metadata": {},
   "source": [
    "\n",
    "Code to Download data"
   ]
  },
  {
   "cell_type": "code",
   "execution_count": 2,
   "metadata": {},
   "outputs": [
    {
     "data": {
      "text/plain": [
       "('t10k-labels-idx1-ubyte.gz', <http.client.HTTPMessage at 0x15140c4ab20>)"
      ]
     },
     "execution_count": 2,
     "metadata": {},
     "output_type": "execute_result"
    }
   ],
   "source": [
    "urllib.request.urlretrieve('http://yann.lecun.com/exdb/mnist/train-images-idx3-ubyte.gz','train-images-idx3-ubyte.gz')\n",
    "urllib.request.urlretrieve('http://yann.lecun.com/exdb/mnist/train-labels-idx1-ubyte.gz','train-labels-idx1-ubyte.gz')\n",
    "urllib.request.urlretrieve('http://yann.lecun.com/exdb/mnist/t10k-images-idx3-ubyte.gz','t10k-images-idx3-ubyte.gz')\n",
    "urllib.request.urlretrieve('http://yann.lecun.com/exdb/mnist/t10k-labels-idx1-ubyte.gz','t10k-labels-idx1-ubyte.gz')\n",
    "\n"
   ]
  },
  {
   "cell_type": "markdown",
   "metadata": {},
   "source": [
    "\n",
    "Functions to preprocess labels and images\n",
    "\n",
    "\n"
   ]
  },
  {
   "cell_type": "code",
   "execution_count": 9,
   "metadata": {},
   "outputs": [],
   "source": [
    "def get_images(fname):\n",
    "    with gzip.open(fname) as f:\n",
    "        np_images = np.frombuffer(f.read(), 'B', offset=16)\n",
    "        np_images = np_images.reshape(-1, 784).astype('float32')\n",
    "        np_images = np_images/255\n",
    "        np_images = np_images - np.mean(np_images)\n",
    "    return np_images\n",
    "    \n",
    "\n",
    "def get_labels(fname):\n",
    "    with gzip.open(fname) as f:\n",
    "        np_labels = np.frombuffer(f.read(), 'B', offset=8)\n",
    "        print(np_labels)\n",
    "        rows = len(np_labels)\n",
    "        col = np_labels.max() + 1\n",
    "        np_enc = np.zeros((rows, col), dtype='uint8')\n",
    "        np_enc[np.arange(rows), np_labels] = 1\n",
    "        print(np_enc.shape,np_enc)\n",
    "    return np_enc"
   ]
  },
  {
   "cell_type": "code",
   "execution_count": 10,
   "metadata": {},
   "outputs": [
    {
     "name": "stdout",
     "output_type": "stream",
     "text": [
      "[5 0 4 ... 5 6 8]\n",
      "(60000, 10) [[0 0 0 ... 0 0 0]\n",
      " [1 0 0 ... 0 0 0]\n",
      " [0 0 0 ... 0 0 0]\n",
      " ...\n",
      " [0 0 0 ... 0 0 0]\n",
      " [0 0 0 ... 0 0 0]\n",
      " [0 0 0 ... 0 1 0]]\n",
      "[7 2 1 ... 4 5 6]\n",
      "(10000, 10) [[0 0 0 ... 1 0 0]\n",
      " [0 0 1 ... 0 0 0]\n",
      " [0 1 0 ... 0 0 0]\n",
      " ...\n",
      " [0 0 0 ... 0 0 0]\n",
      " [0 0 0 ... 0 0 0]\n",
      " [0 0 0 ... 0 0 0]]\n"
     ]
    }
   ],
   "source": [
    "train_images = get_images('train-images-idx3-ubyte.gz')\n",
    "train_labels = get_labels('train-labels-idx1-ubyte.gz')\n",
    "test_images = get_images('t10k-images-idx3-ubyte.gz')\n",
    "test_labels = get_labels('t10k-labels-idx1-ubyte.gz')\n"
   ]
  },
  {
   "cell_type": "markdown",
   "metadata": {},
   "source": []
  },
  {
   "cell_type": "code",
   "execution_count": 14,
   "metadata": {},
   "outputs": [],
   "source": [
    "def addones(X):\n",
    "    ones = np.ones((X.shape[0],1))\n",
    "    ones = ones.flatten()\n",
    "    return np.insert(X, 1, ones, axis=1)\n",
    "\n",
    "def accuracy(X,Y,w):\n",
    "    \n",
    "    f = np.matmul(addones(X),w.T)\n",
    "    f = np.argmax(f, axis=1)\n",
    "    Y = np.argmax(Y, axis=1)\n",
    "    return np.mean(Y==f)\n",
    "\n",
    "\n",
    "def sgd(X, Y, itr, batch_size, lr, plot_f=False, sample_s = 1000):\n",
    "    \n",
    "    start_time = time.time()\n",
    "    \n",
    "    \n",
    "    X = addones(X)\n",
    "    m = X.shape[0]\n",
    "    W = np.zeros((Y.shape[1],X.shape[1]))\n",
    "    \n",
    "    loss_lst, accuracy_lst = [], []\n",
    "    \n",
    "#     taking equally spaced indices from itr to calculate loss which is computationally expensive\n",
    "    loss_ind = np.linspace(2,sample_s,50,dtype=int)\n",
    "    \n",
    "        \n",
    "    for i in range(itr+1):\n",
    "        select_indices = np.random.choice(np.arange(m), size = batch_size)\n",
    "        lx = X[select_indices]        \n",
    "        ly = Y[select_indices]\n",
    "\n",
    "        grad_mat = ly - np.matmul(lx, W.T)\n",
    "        grad_mat = -1 * np.matmul(grad_mat.T, lx)/batch_size\n",
    "        \n",
    "        W = W - lr*grad_mat\n",
    "        \n",
    "        if plot_f and (i in loss_ind):\n",
    "            loss_lst.append((1/2)*(np.sum((Y - np.matmul(X, W.T)) **2)))\n",
    "            accuracy_lst.append(accuracy(test_images, test_labels,W))\n",
    "            \n",
    "    end_time = time.time()           \n",
    "            \n",
    "    if plot_f:       \n",
    "        \n",
    "        fig,axs = plt.subplots(1,2,figsize=(15,5))\n",
    "\n",
    "        axs[0].set_title(\"Training Loss vs Iterations for batch size \" + str(batch_size))\n",
    "        axs[0].set_ylabel(\"Training Loss\")\n",
    "        axs[0].set_xlabel(\"Iterations\")\n",
    "        axs[0].plot(list(loss_ind),loss_lst)\n",
    "\n",
    "        axs[1].set_title(\"Accuracy vs Iterations for batch size \" + str(batch_size))\n",
    "        axs[1].set_ylabel(\"Accuracy\")\n",
    "        axs[1].set_xlabel(\"Iterations\")\n",
    "        axs[1].plot(list(loss_ind),accuracy_lst)\n",
    "\n",
    "        return loss_lst, accuracy_lst\n",
    "    \n",
    "    \n",
    "    return W, end_time-start_time\n",
    "        "
   ]
  },
  {
   "cell_type": "markdown",
   "metadata": {},
   "source": [
    "The below 2 cells are creating to test if grader wants to try different values, please uncomment those to playaround"
   ]
  },
  {
   "cell_type": "code",
   "execution_count": 15,
   "metadata": {
    "scrolled": true
   },
   "outputs": [],
   "source": [
    "\n",
    "# lw,_ = sgd(train_images, train_labels, 1000, 100, 0.01)\n"
   ]
  },
  {
   "cell_type": "code",
   "execution_count": 16,
   "metadata": {},
   "outputs": [
    {
     "name": "stdout",
     "output_type": "stream",
     "text": [
      "training accuracy  0.85245\n",
      "testing accuracy  0.8606\n"
     ]
    }
   ],
   "source": [
    "# tre = accuracy(train_images, train_labels, lw)\n",
    "# te = accuracy(test_images, test_labels, lw)\n",
    "# print(\"training accuracy \",tre)\n",
    "# print(\"testing accuracy \",te)"
   ]
  },
  {
   "cell_type": "code",
   "execution_count": 18,
   "metadata": {},
   "outputs": [],
   "source": [
    "\n",
    "# Function to get the best learning rate amongst the one chosen below\n",
    "\n",
    "\n",
    "def get_best_learning_rate(batch_size):\n",
    "    \n",
    "    learning_rate_arr = [1e-4, 1e-3, 1e-2, 1e-1]\n",
    "    train_acc = np.zeros(len(learning_rate_arr))\n",
    "    test_acc = np.zeros(len(learning_rate_arr))\n",
    "    training_time = np.zeros(len(learning_rate_arr))\n",
    "\n",
    "    for i,l in enumerate(learning_rate_arr):\n",
    "        learned_weight, training_time[i]  = sgd(train_images, train_labels, 20000, batch_size, l)\n",
    "        train_acc[i] = accuracy(train_images, train_labels, learned_weight)\n",
    "        test_acc[i] = accuracy(test_images, test_labels, learned_weight)\n",
    "\n",
    "    besti = np.argmax(test_acc)    \n",
    "    return learning_rate_arr[besti], training_time[besti], test_acc[besti]"
   ]
  },
  {
   "cell_type": "code",
   "execution_count": 19,
   "metadata": {
    "scrolled": true
   },
   "outputs": [
    {
     "name": "stdout",
     "output_type": "stream",
     "text": [
      "\n",
      " best lambda value for batch size  1 is  0.001 with training time  2.6262123584747314 accuracy 0.8565\n",
      "\n",
      " best lambda value for batch size  10 is  0.001 with training time  3.3580803871154785 accuracy 0.8622\n",
      "\n",
      " best lambda value for batch size  100 is  0.001 with training time  15.399561643600464 accuracy 0.8645\n",
      "\n",
      " best lambda value for batch size  1000 is  0.001 with training time  177.19412064552307 accuracy 0.8641\n"
     ]
    }
   ],
   "source": [
    "batch_lst = [1,10,100,1000]\n",
    "best_lr = []\n",
    "for j in range(len(batch_lst)):\n",
    "    blr, best_time, best_acc = get_best_learning_rate(batch_lst[j])\n",
    "    best_lr.append(blr)\n",
    "    print('\\n best lambda value for batch size ', batch_lst[j] ,'is ', best_lr[j], 'with training time ', best_time, 'accuracy' , best_acc )"
   ]
  },
  {
   "cell_type": "code",
   "execution_count": 20,
   "metadata": {},
   "outputs": [
    {
     "ename": "KeyboardInterrupt",
     "evalue": "",
     "output_type": "error",
     "traceback": [
      "\u001b[1;31m---------------------------------------------------------------------------\u001b[0m",
      "\u001b[1;31mKeyboardInterrupt\u001b[0m                         Traceback (most recent call last)",
      "\u001b[1;32m~\\AppData\\Local\\Temp/ipykernel_18168/3180951240.py\u001b[0m in \u001b[0;36m<module>\u001b[1;34m\u001b[0m\n\u001b[0;32m      3\u001b[0m \u001b[0msample_size\u001b[0m \u001b[1;33m=\u001b[0m \u001b[1;33m[\u001b[0m\u001b[1;36m15000\u001b[0m\u001b[1;33m,\u001b[0m\u001b[1;36m10000\u001b[0m\u001b[1;33m,\u001b[0m\u001b[1;36m8000\u001b[0m\u001b[1;33m,\u001b[0m \u001b[1;36m7000\u001b[0m\u001b[1;33m]\u001b[0m\u001b[1;33m\u001b[0m\u001b[1;33m\u001b[0m\u001b[0m\n\u001b[0;32m      4\u001b[0m \u001b[1;32mfor\u001b[0m \u001b[0mi\u001b[0m \u001b[1;32min\u001b[0m \u001b[0mrange\u001b[0m\u001b[1;33m(\u001b[0m\u001b[0mlen\u001b[0m\u001b[1;33m(\u001b[0m\u001b[0mbatch_lst\u001b[0m\u001b[1;33m)\u001b[0m\u001b[1;33m)\u001b[0m\u001b[1;33m:\u001b[0m\u001b[1;33m\u001b[0m\u001b[1;33m\u001b[0m\u001b[0m\n\u001b[1;32m----> 5\u001b[1;33m     \u001b[0msgd\u001b[0m\u001b[1;33m(\u001b[0m\u001b[0mtrain_images\u001b[0m\u001b[1;33m,\u001b[0m \u001b[0mtrain_labels\u001b[0m\u001b[1;33m,\u001b[0m \u001b[1;36m20000\u001b[0m\u001b[1;33m,\u001b[0m \u001b[0mbatch_lst\u001b[0m\u001b[1;33m[\u001b[0m\u001b[0mi\u001b[0m\u001b[1;33m]\u001b[0m\u001b[1;33m,\u001b[0m \u001b[0mbest_lr\u001b[0m\u001b[1;33m[\u001b[0m\u001b[0mi\u001b[0m\u001b[1;33m]\u001b[0m\u001b[1;33m,\u001b[0m \u001b[1;32mTrue\u001b[0m\u001b[1;33m,\u001b[0m \u001b[0msample_size\u001b[0m\u001b[1;33m[\u001b[0m\u001b[0mi\u001b[0m\u001b[1;33m]\u001b[0m\u001b[1;33m)\u001b[0m\u001b[1;33m\u001b[0m\u001b[1;33m\u001b[0m\u001b[0m\n\u001b[0m",
      "\u001b[1;32m~\\AppData\\Local\\Temp/ipykernel_18168/2025874084.py\u001b[0m in \u001b[0;36msgd\u001b[1;34m(X, Y, itr, batch_size, lr, plot_f, sample_s)\u001b[0m\n\u001b[0;32m     38\u001b[0m \u001b[1;33m\u001b[0m\u001b[0m\n\u001b[0;32m     39\u001b[0m         \u001b[1;32mif\u001b[0m \u001b[0mplot_f\u001b[0m \u001b[1;32mand\u001b[0m \u001b[1;33m(\u001b[0m\u001b[0mi\u001b[0m \u001b[1;32min\u001b[0m \u001b[0mloss_ind\u001b[0m\u001b[1;33m)\u001b[0m\u001b[1;33m:\u001b[0m\u001b[1;33m\u001b[0m\u001b[1;33m\u001b[0m\u001b[0m\n\u001b[1;32m---> 40\u001b[1;33m             \u001b[0mloss_lst\u001b[0m\u001b[1;33m.\u001b[0m\u001b[0mappend\u001b[0m\u001b[1;33m(\u001b[0m\u001b[1;33m(\u001b[0m\u001b[1;36m1\u001b[0m\u001b[1;33m/\u001b[0m\u001b[1;36m2\u001b[0m\u001b[1;33m)\u001b[0m\u001b[1;33m*\u001b[0m\u001b[1;33m(\u001b[0m\u001b[0mnp\u001b[0m\u001b[1;33m.\u001b[0m\u001b[0msum\u001b[0m\u001b[1;33m(\u001b[0m\u001b[1;33m(\u001b[0m\u001b[0mY\u001b[0m \u001b[1;33m-\u001b[0m \u001b[0mnp\u001b[0m\u001b[1;33m.\u001b[0m\u001b[0mmatmul\u001b[0m\u001b[1;33m(\u001b[0m\u001b[0mX\u001b[0m\u001b[1;33m,\u001b[0m \u001b[0mW\u001b[0m\u001b[1;33m.\u001b[0m\u001b[0mT\u001b[0m\u001b[1;33m)\u001b[0m\u001b[1;33m)\u001b[0m \u001b[1;33m**\u001b[0m\u001b[1;36m2\u001b[0m\u001b[1;33m)\u001b[0m\u001b[1;33m)\u001b[0m\u001b[1;33m)\u001b[0m\u001b[1;33m\u001b[0m\u001b[1;33m\u001b[0m\u001b[0m\n\u001b[0m\u001b[0;32m     41\u001b[0m             \u001b[0maccuracy_lst\u001b[0m\u001b[1;33m.\u001b[0m\u001b[0mappend\u001b[0m\u001b[1;33m(\u001b[0m\u001b[0maccuracy\u001b[0m\u001b[1;33m(\u001b[0m\u001b[0mtest_images\u001b[0m\u001b[1;33m,\u001b[0m \u001b[0mtest_labels\u001b[0m\u001b[1;33m,\u001b[0m\u001b[0mW\u001b[0m\u001b[1;33m)\u001b[0m\u001b[1;33m)\u001b[0m\u001b[1;33m\u001b[0m\u001b[1;33m\u001b[0m\u001b[0m\n\u001b[0;32m     42\u001b[0m \u001b[1;33m\u001b[0m\u001b[0m\n",
      "\u001b[1;31mKeyboardInterrupt\u001b[0m: "
     ]
    },
    {
     "data": {
      "image/png": "[encoded data removed]",
      "text/plain": [
       "<Figure size 1080x360 with 2 Axes>"
      ]
     },
     "metadata": {
      "needs_background": "light"
     },
     "output_type": "display_data"
    }
   ],
   "source": [
    "\n",
    "#Running the below snippet will train the model with best learning rate and plot the loss and accuracy graphs\n",
    "\n",
    "sample_size = [15000,10000,8000, 7000]\n",
    "for i in range(len(batch_lst)):\n",
    "    sgd(train_images, train_labels, 20000, batch_lst[i], best_lr[i], True, sample_size[i])"
   ]
  },
  {
   "cell_type": "code",
   "execution_count": null,
   "metadata": {},
   "outputs": [],
   "source": [
    "# Function for variable data set sizes\n",
    "\n",
    "\n",
    "def variable_dataset(X,Y):\n",
    "    \n",
    "    N = [100, 500, 1000, 10000,50000,60000]\n",
    "    m = X.shape[0]\n",
    "    b_lr =0.001\n",
    "    for ds in N:\n",
    "        ds_indices = np.random.choice(np.arange(m), size = ds, replace = False)\n",
    "        ds_x = X[ds_indices]        \n",
    "        ds_y = Y[ds_indices]\n",
    "        _,acc_lst = sgd(ds_x, ds_y, 20000, 100, b_lr, True, 8000)\n",
    "        print('max accuracy for data size ', ds, ' is: ', max(acc_lst))"
   ]
  },
  {
   "cell_type": "code",
   "execution_count": null,
   "metadata": {},
   "outputs": [],
   "source": [
    "variable_dataset(train_images,train_labels)"
   ]
  },
  {
   "cell_type": "code",
   "execution_count": null,
   "metadata": {},
   "outputs": [],
   "source": []
  },
  {
   "cell_type": "code",
   "execution_count": 58,
   "metadata": {},
   "outputs": [],
   "source": [
    "import torch\n",
    "from torch.utils.data import TensorDataset\n",
    "from torch.utils.data import DataLoader\n",
    "from torch.utils.data import RandomSampler\n",
    "import torch.nn as nn\n",
    "import torch.nn.functional as F"
   ]
  },
  {
   "cell_type": "code",
   "execution_count": 75,
   "metadata": {},
   "outputs": [
    {
     "data": {
      "text/plain": [
       "[<matplotlib.lines.Line2D at 0x1510a801220>]"
      ]
     },
     "execution_count": 75,
     "metadata": {},
     "output_type": "execute_result"
    },
    {
     "data": {
      "image/png": "[encoded data removed]",
      "text/plain": [
       "<Figure size 1080x360 with 1 Axes>"
      ]
     },
     "metadata": {
      "needs_background": "light"
     },
     "output_type": "display_data"
    }
   ],
   "source": [
    "batch_size, t_lr, t_loss_lst, t_acc_lst = 100, 0.001, [], []\n",
    "\n",
    "inputs = torch.from_numpy(train_images)\n",
    "targets = torch.from_numpy(train_labels)\n",
    "out_i = torch.from_numpy(test_labels)\n",
    "dataset = TensorDataset(inputs, targets)\n",
    "sp = RandomSampler(train_images, replacement = True, num_samples = 200)\n",
    "train_loader = DataLoader(dataset = dataset, batch_size=batch_size, sampler = sp)\n",
    "\n",
    "model = nn.Linear(784,10)\n",
    "\n",
    "optimizer = torch.optim.SGD(model.parameters(), lr=t_lr)\n",
    "criterion = nn.MSELoss()\n",
    "\n",
    "t_loss_ind = np.linspace(2,10000,50,dtype=int)\n",
    "\n",
    "it=0\n",
    "for i in range(10000):\n",
    "    for x,y in train_loader:\n",
    "        \n",
    "        it +=1\n",
    "        optimizer.zero_grad()\n",
    "        y_pred = model(x.float())\n",
    "#         if i in t_loss_ind:\n",
    "        loss = criterion(y_pred, y.float())\n",
    "        loss.backward()\n",
    "        \n",
    "\n",
    "        t_loss_lst.append(float(loss))\n",
    "#         out_Y_pred = model(out_i.float())\n",
    "#         t_acc_lst.append()\n",
    "        optimizer.step()\n",
    "\n",
    "# print(len(t_loss_lst), len(t_loss_ind),it)\n",
    "t_loss_ind = np.linspace(2,it,len(t_loss_lst),dtype=int)\n",
    "fig,axs = plt.subplots(1,figsize=(15,5))\n",
    "\n",
    "axs.set_title(\"Training Loss vs Iterations\")\n",
    "axs.set_ylabel(\"Training Loss\")\n",
    "axs.set_xlabel(\"Iterations\")\n",
    "axs.plot(list(t_loss_ind),t_loss_lst)  "
   ]
  },
  {
   "cell_type": "code",
   "execution_count": null,
   "metadata": {},
   "outputs": [],
   "source": []
  },
  {
   "cell_type": "code",
   "execution_count": null,
   "metadata": {},
   "outputs": [],
   "source": [
    "\n",
    "\n"
   ]
  },
  {
   "cell_type": "code",
   "execution_count": null,
   "metadata": {},
   "outputs": [],
   "source": []
  },
  {
   "cell_type": "code",
   "execution_count": null,
   "metadata": {},
   "outputs": [],
   "source": [
    "dataset = TensorDataset(x_train, y_train)\n",
    "dataloader = DataLoader(dataset, batch_size=32)\n",
    "model = torch.hub.load('pytorch/vision:v0.10.0', 'resnet18', pretrained=False)\n",
    "model.fc = nn.Linear(512, 10)\n",
    "criterion = nn.MSELoss()\n",
    "optimizer = optim.Adam(model.parameters(), lr=0.001)\n",
    "\n",
    "torch_loss = []\n",
    "torch_acc = []\n",
    "ITR = 2000\n",
    "for i in range(2000):\n",
    "    for data in dataloader:\n",
    "        inputs, labels = data\n",
    "        optimizer.zero_grad()\n",
    "        outputs = model(inputs.float())\n",
    "        loss = criterion(outputs, labels.float())\n",
    "        if (i+1)%(ITR/10) == 0:\n",
    "            print(loss.float())\n",
    "            torch_loss.append(float(loss))\n",
    "            acc = accuracy(model(x_test.float()).detach().numpy(), y_test.detach().numpy())\n",
    "            torch_acc.append(acc)\n",
    "            print(acc)\n",
    "        loss.backward()\n",
    "        optimizer.step()"
   ]
  }
 ],
 "metadata": {
  "kernelspec": {
   "display_name": "Python 3 (ipykernel)",
   "language": "python",
   "name": "python3"
  },
  "language_info": {
   "codemirror_mode": {
    "name": "ipython",
    "version": 3
   },
   "file_extension": ".py",
   "mimetype": "text/x-python",
   "name": "python",
   "nbconvert_exporter": "python",
   "pygments_lexer": "ipython3",
   "version": "3.9.7"
  }
 },
 "nbformat": 4,
 "nbformat_minor": 4
}
